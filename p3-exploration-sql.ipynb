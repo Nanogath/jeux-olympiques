{
 "cells": [
  {
   "cell_type": "markdown",
   "metadata": {},
   "source": [
    "# P3. Exploration SQL"
   ]
  },
  {
   "cell_type": "markdown",
   "metadata": {},
   "source": [
    "Le répertoire `/db` contient une base de données SQLite3 `olympics.sqbpro` reprenant les résultats des épreuves des jeux d'été pour une période donnée (cf P1 & P2).\n",
    "\n",
    "On s'intéresse dans le cadre de cette partie P3 à l'exploration via SQL des résultats des JO d'été (table : `summer`)."
   ]
  },
  {
   "cell_type": "markdown",
   "metadata": {},
   "source": [
    "---"
   ]
  },
  {
   "cell_type": "markdown",
   "metadata": {},
   "source": [
    "### Question 1: Qu'est ce que SQL ?"
   ]
  },
  {
   "cell_type": "markdown",
   "metadata": {},
   "source": [
    " **SQL (Structured Query Langage)** est un langage de base de *données relationnelle*. Il permet:\n",
    "\n",
    "    - La création de base et des tables.\n",
    "    - L'ajout d'enregistrements sous forme de lignes.\n",
    "    - L'interrogation de la base.\n",
    "    - La mise à jour.\n",
    "    - Le changement de structure de la table: ajout, suppression de colonnes.\n",
    "    - La gestion de droits d'utilisateurs de la base.\n",
    "\n",
    "**Source:**      *https://www.scriptol.fr/sql/sql-introduction.php*"
   ]
  },
  {
   "cell_type": "markdown",
   "metadata": {},
   "source": [
    "### Question 2: Qu'est ce que SQLite 3 ? Avantages et/ou Inconvénients ?"
   ]
  },
  {
   "cell_type": "markdown",
   "metadata": {},
   "source": [
    "**SQLite est un système de base de données** qui a la particularité de fonctionner sans serveur, on dit aussi \"standalone\"* ou *\"base de données embarquée\".\n",
    "\n",
    "Les principaux **inconvénients** de SQLite par rapport à MySQL sont :\n",
    "\n",
    "- écritures atomiques (avec SQLite, un seul processus peut écrire dans la base)\n",
    "- pas de réplication\n",
    "    \n",
    "**Les Avantages** : \n",
    "\n",
    "- ce qu'il faut bien garder à l'esprit, c'est que SQLite n'est pas vraiment un concurrent des serveurs de base de données relationnelles.\n",
    "\n",
    "- SQLite peut aussi s'avérer très utile sur un site web pour créer des fonctionnalités qui ne sont pas directement liées au site évitant ainsi de polluer la base de données principale (fonctionnant sur MySQL par exemple) avec des données temporaires.\n",
    "\n",
    "- L'autre avantage est la simplicité : il n'y a aucune manipulation à faire, le fichier sqlite est créé automatiquement à la volée, toute la base est stockée dans un fichier unique qu'il est facile d'échanger en FTP...\n",
    "\n",
    "**Source:**    *http://www.finalclap.com/faq/180-sqlite-definition*"
   ]
  },
  {
   "cell_type": "markdown",
   "metadata": {},
   "source": [
    "### Question 3: Donner des exemples d'autres formats de fichier pouvant être utilisé pour fournir des données similaires "
   ]
  },
  {
   "cell_type": "markdown",
   "metadata": {},
   "source": [
    "**.CSV / .XLM / .SQLITEDB / .DB / .SQLITE3 / .SQL**"
   ]
  },
  {
   "cell_type": "markdown",
   "metadata": {},
   "source": [
    "### Question 4: Quel est le type (texte ou binaire) du fichier base de données SQLite3?"
   ]
  },
  {
   "cell_type": "markdown",
   "metadata": {},
   "source": [
    "Le fichier `olympics.sqbpro` est un fichier **binaire**"
   ]
  },
  {
   "cell_type": "markdown",
   "metadata": {},
   "source": [
    "### Question 5: Donner les caractéristiques de la table `summer` ? "
   ]
  },
  {
   "cell_type": "markdown",
   "metadata": {},
   "source": [
    "**Year / City / Sport / Discipline / Athlete / Country / Gender / Event / Medal**"
   ]
  },
  {
   "cell_type": "markdown",
   "metadata": {},
   "source": [
    "---\n",
    "### Question 6: Combien d'enregistrements possède la table `summer` ?"
   ]
  },
  {
   "cell_type": "code",
   "execution_count": null,
   "metadata": {},
   "outputs": [],
   "source": [
    "SELECT count (*)\n",
    "FROM summer;"
   ]
  },
  {
   "cell_type": "markdown",
   "metadata": {},
   "source": [
    "Résultat: **31165**"
   ]
  },
  {
   "cell_type": "markdown",
   "metadata": {},
   "source": [
    "### Question 7: Quelle période des JO couvre ce fichier de résultats ?"
   ]
  },
  {
   "cell_type": "code",
   "execution_count": null,
   "metadata": {},
   "outputs": [],
   "source": [
    "SELECT min(Year), max(Year)\n",
    "FROM summer;"
   ]
  },
  {
   "cell_type": "markdown",
   "metadata": {},
   "source": [
    "Résultat: **De 1896 à 2012**"
   ]
  },
  {
   "cell_type": "markdown",
   "metadata": {},
   "source": [
    "### Question 8: Indiquer les années et villes des olympiades ? "
   ]
  },
  {
   "cell_type": "code",
   "execution_count": null,
   "metadata": {},
   "outputs": [],
   "source": [
    "SELECT DISTINCT Year, City\n",
    "FROM summer"
   ]
  },
  {
   "cell_type": "code",
   "execution_count": null,
   "metadata": {},
   "outputs": [],
   "source": [
    "1896    Athens\n",
    "1900    Paris\n",
    "1904    St Louis\n",
    "1908    London\n",
    "1912    Stockholm\n",
    "1920    Antwerp\n",
    "1924    Paris\n",
    "1928    Amsterdam\n",
    "1932    Los Angeles\n",
    "1936    Berlin\n",
    "1948    London\n",
    "1952    Helsinki\n",
    "1956    Melbourne / Stockholm\n",
    "1960    Rome\n",
    "1964    Tokyo\n",
    "1968    Mexico\n",
    "1972    Munich\n",
    "1976    Montreal\n",
    "1980    Moscow\n",
    "1984    Los Angeles\n",
    "1988    Seoul\n",
    "1992    Barcelona\n",
    "1996    Atlanta\n",
    "2000    Sydney\n",
    "2004    Athens\n",
    "2008    Beijing\n",
    "2012    London"
   ]
  },
  {
   "cell_type": "markdown",
   "metadata": {},
   "source": [
    "### **Questions des apprenants:** "
   ]
  },
  {
   "cell_type": "markdown",
   "metadata": {},
   "source": [
    "### **1)** Combien la **France** a remporté de médailles d’**Or** aux JO de **1984** ? (*Christophe*)"
   ]
  },
  {
   "cell_type": "code",
   "execution_count": null,
   "metadata": {},
   "outputs": [],
   "source": [
    "SELECT count(*)\n",
    "FROM (\n",
    "SELECT DISTINCT  Sport, Discipline, Event, Gender\n",
    "FROM summer\n",
    "WHERE Year = 1984 AND Country = \"FRA\"  AND Medal = \"Gold\"\n",
    "GROUP BY Sport, Discipline, Event, Gender\n",
    ")"
   ]
  },
  {
   "cell_type": "markdown",
   "metadata": {},
   "source": [
    "*Résultat* : **5**"
   ]
  },
  {
   "cell_type": "markdown",
   "metadata": {},
   "source": [
    "![Q1](screenshots/q1.png)"
   ]
  },
  {
   "cell_type": "markdown",
   "metadata": {},
   "source": [
    "### **2)** Quel **pays** a le plus d'**athlètes** tout pays confondu (*Matthias*)"
   ]
  },
  {
   "cell_type": "code",
   "execution_count": null,
   "metadata": {},
   "outputs": [],
   "source": [
    "SELECT country, count (DISTINCT Athlete) as nAthlete\n",
    "FROM summer\n",
    "GROUP BY Country\n",
    "ORDER BY nAthlete DESC\n",
    "LIMIT 1"
   ]
  },
  {
   "cell_type": "markdown",
   "metadata": {},
   "source": [
    "*Résultat* : **3149**"
   ]
  },
  {
   "cell_type": "markdown",
   "metadata": {},
   "source": [
    "![Q2](screenshots/q2.png)"
   ]
  },
  {
   "cell_type": "markdown",
   "metadata": {},
   "source": [
    "### **3)** En **2012**,combien de **médailles** le **Japon** a-t-il gagné ? (*Théo*)"
   ]
  },
  {
   "cell_type": "code",
   "execution_count": null,
   "metadata": {},
   "outputs": [],
   "source": [
    "SELECT count(Medal) as nMedal\n",
    "FROM summer\n",
    "WHERE country = \"JPN\" AND Year = 2012"
   ]
  },
  {
   "cell_type": "markdown",
   "metadata": {},
   "source": [
    "*Résultat* : **84**"
   ]
  },
  {
   "cell_type": "markdown",
   "metadata": {},
   "source": [
    "![Q3](screenshots/q3.png)"
   ]
  },
  {
   "cell_type": "markdown",
   "metadata": {},
   "source": [
    "### **4)** - Dans quels différents **Sports** les **Grecs** ont ils gagnés des médailles ? (*Corentin LC*)"
   ]
  },
  {
   "cell_type": "code",
   "execution_count": null,
   "metadata": {},
   "outputs": [],
   "source": [
    "SELECT Sport\n",
    "FROM summer\n",
    "WHERE Country = \"GRE\"\n",
    "GROUP BY Sport"
   ]
  },
  {
   "cell_type": "code",
   "execution_count": null,
   "metadata": {},
   "outputs": [],
   "source": [
    "Résultat:\n",
    "\n",
    "Aquatics\n",
    "Athletics\n",
    "Cycling\n",
    "Fencing\n",
    "Gymnastics\n",
    "Judo\n",
    "Rowing\n",
    "Sailing\n",
    "Shooting\n",
    "Taekwondo\n",
    "Tennis\n",
    "Weightlifting\n",
    "Wrestling"
   ]
  },
  {
   "cell_type": "markdown",
   "metadata": {},
   "source": [
    "![Q4](screenshots/q4.png)"
   ]
  },
  {
   "cell_type": "markdown",
   "metadata": {},
   "source": [
    "### **5)** - Quel **Pays** a remporté le plus de **médailles d'or** (*Philippe*)"
   ]
  },
  {
   "cell_type": "code",
   "execution_count": null,
   "metadata": {},
   "outputs": [],
   "source": [
    "SELECT Country, count(Medal) \n",
    "FROM summer\n",
    "WHERE Medal = \"Gold\"\n",
    "GROUP BY Country\n",
    "ORDER BY count(MEDAL) DESC\n",
    "LIMIT 1"
   ]
  },
  {
   "cell_type": "markdown",
   "metadata": {},
   "source": [
    "*Résultat* : **USA avec 2235**"
   ]
  },
  {
   "cell_type": "markdown",
   "metadata": {},
   "source": [
    "![Q5](screenshots/q5.png)"
   ]
  },
  {
   "cell_type": "markdown",
   "metadata": {},
   "source": [
    "### **6)** Combien de **villes** différentes ont accueuillis les JO d'été **entre 1896 et 2012** ? (*Yoann*)"
   ]
  },
  {
   "cell_type": "code",
   "execution_count": null,
   "metadata": {},
   "outputs": [],
   "source": [
    "SELECT count(DISTINCT City) \n",
    "FROM summer"
   ]
  },
  {
   "cell_type": "markdown",
   "metadata": {},
   "source": [
    "*Résultat* : **22**"
   ]
  },
  {
   "cell_type": "markdown",
   "metadata": {},
   "source": [
    "![Q6](screenshots/q6.png)"
   ]
  },
  {
   "cell_type": "markdown",
   "metadata": {},
   "source": [
    "### **7)** Combien de **femmes** ont obtenues une **médaille d'or** ? (*Lamia*)"
   ]
  },
  {
   "cell_type": "code",
   "execution_count": null,
   "metadata": {},
   "outputs": [],
   "source": [
    "SELECT count(Gender) \n",
    "FROM summer\n",
    "WHERE Gender = \"Women\" AND Medal = \"Gold\""
   ]
  },
  {
   "cell_type": "markdown",
   "metadata": {},
   "source": [
    "*Résultat* : **2788**"
   ]
  },
  {
   "cell_type": "markdown",
   "metadata": {},
   "source": [
    "![Q7](screenshots/q7.png)"
   ]
  },
  {
   "cell_type": "markdown",
   "metadata": {},
   "source": [
    "### **8)** Combien de **Sports** différents sont représentés par **Année** (*Joris*)"
   ]
  },
  {
   "cell_type": "code",
   "execution_count": null,
   "metadata": {},
   "outputs": [],
   "source": [
    "SELECT year, count(DISTINCT Sport) as nombreSports\n",
    "FROM summer\n",
    "GROUP BY Year"
   ]
  },
  {
   "cell_type": "code",
   "execution_count": null,
   "metadata": {},
   "outputs": [],
   "source": [
    "Résultat : \n",
    "\n",
    "1896\t9\n",
    "1900\t19\n",
    "1904\t16\n",
    "1908\t22\n",
    "1912\t14\n",
    "1920\t22\n",
    "1924\t17\n",
    "1928\t14\n",
    "1932\t14\n",
    "1936\t19\n",
    "1948\t17\n",
    "1952\t17\n",
    "1956\t17\n",
    "1960\t17\n",
    "1964\t19\n",
    "1968\t18\n",
    "1972\t21\n",
    "1976\t21\n",
    "1980\t21\n",
    "1984\t21\n",
    "1988\t23\n",
    "1992\t25\n",
    "1996\t26\n",
    "2000\t28\n",
    "2004\t28\n",
    "2008\t28\n",
    "2012\t26"
   ]
  },
  {
   "cell_type": "markdown",
   "metadata": {},
   "source": [
    "![Q8](screenshots/q8.png)"
   ]
  },
  {
   "cell_type": "markdown",
   "metadata": {},
   "source": [
    "### **9)** Combien de fois **Londres** a acceuilli les JO (*Marvin*)"
   ]
  },
  {
   "cell_type": "code",
   "execution_count": null,
   "metadata": {},
   "outputs": [],
   "source": [
    "SELECT count(DISTINCT year) as LondresAcceuil\n",
    "FROM summer\n",
    "WHERE City = \"London\"\n"
   ]
  },
  {
   "cell_type": "markdown",
   "metadata": {},
   "source": [
    "*Résultat* : **3**"
   ]
  },
  {
   "cell_type": "markdown",
   "metadata": {},
   "source": [
    "![Q9](screenshots/q9.png)"
   ]
  },
  {
   "cell_type": "markdown",
   "metadata": {},
   "source": [
    "### **10)** Combien de **joueuses** comptait la séléction **brésilienne de volley-ball** médaillées d'or au JO **2012** ? (*Cor P*)"
   ]
  },
  {
   "cell_type": "code",
   "execution_count": null,
   "metadata": {},
   "outputs": [],
   "source": [
    "SELECT count(Athlete)\n",
    "FROM summer\n",
    "WHERE Gender = \"Women\" AND Country = \"BRA\" AND Medal = \"Gold\" AND Year = \"2012\" AND Sport = \"Volleyball\""
   ]
  },
  {
   "cell_type": "markdown",
   "metadata": {},
   "source": [
    "*Résultat*: **12**"
   ]
  },
  {
   "cell_type": "markdown",
   "metadata": {},
   "source": [
    "![Q10](screenshots/q10.png)"
   ]
  },
  {
   "cell_type": "markdown",
   "metadata": {},
   "source": [
    "### **11)** Combien de **femmes francaises** ont gagné en **2012**, quels sont leurs **médailles** ? (*Izak*)"
   ]
  },
  {
   "cell_type": "code",
   "execution_count": null,
   "metadata": {},
   "outputs": [],
   "source": [
    "#Premiere partie : Combien de femmes ont gagné en 2012\n",
    "SELECT count (DISTINCT Athlete) \n",
    "FROM summer\n",
    "WHERE Gender = \"Women\" AND Country = \"FRA\" AND Year = \"2012\""
   ]
  },
  {
   "cell_type": "markdown",
   "metadata": {},
   "source": [
    "*Résultat* : **29**"
   ]
  },
  {
   "cell_type": "markdown",
   "metadata": {},
   "source": [
    "![Q11](screenshots/q11a.png)"
   ]
  },
  {
   "cell_type": "code",
   "execution_count": null,
   "metadata": {},
   "outputs": [],
   "source": [
    "#Deuxieme partie : Quelles sont leur médaille ?\n",
    "SELECT Medal, Athlete\n",
    "FROM summer\n",
    "WHERE Gender = \"Women\" AND Country = \"FRA\" AND Year = \"2012\""
   ]
  },
  {
   "cell_type": "code",
   "execution_count": null,
   "metadata": {},
   "outputs": [],
   "source": [
    "Résultat:\n",
    "    \n",
    "Silver\tMUFFAT, Camille\n",
    "Gold\tMUFFAT, Camille\n",
    "Bronze\tBALMY, Coralie\n",
    "Bronze\tBONNET, Charlotte\n",
    "Bronze\tETIENNE, Ophelie-Cyrielle\n",
    "Bronze\tFARRELL, Margaux\n",
    "Bronze\tLAZARE, Mylene\n",
    "Bronze\tMUFFAT, Camille\n",
    "Silver\tBEIKES, Clemence\n",
    "Silver\tDIGBEU, Jennifer\n",
    "Silver\tDUMERC, Celine\n",
    "Silver\tGODIN, Elodie\n",
    "Silver\tGOMIS, Emilie\n",
    "Silver\tGRUDA, Sandrine\n",
    "Silver\tLABORDE, Marion\n",
    "Silver\tLAWSON-WADE, Edwige\n",
    "Silver\tLEPRON, Florence\n",
    "Silver\tMIYEM, Endene\n",
    "Silver\tNDONGUE, Emmeline\n",
    "Silver\tYACOUBOU, Isabelle\n",
    "Gold\tFER, Emilie\n",
    "Gold\tBRESSET, Julie\n",
    "Bronze\tGNETO, Priscilla\n",
    "Bronze\tPAVIA, Automne\n",
    "Bronze\tEMANE, Gevrise\n",
    "Gold\tDECOSSE, Lucie\n",
    "Bronze\tTCHEUMEO, Audrey\n",
    "Silver\tGOBERVILLE, Celine\n",
    "Bronze\tRACINET, Delphine\n",
    "Silver\tGRAFFE, Anne-Caroline\n",
    "Bronze\tHARNOIS, Marlene"
   ]
  },
  {
   "cell_type": "markdown",
   "metadata": {},
   "source": [
    "![Q11](screenshots/q11b.png)"
   ]
  },
  {
   "cell_type": "markdown",
   "metadata": {},
   "source": [
    "### **12)** Quel est l'**athlète** qui a remporté le plus de **médaille d'or** ? (*Mayel*)"
   ]
  },
  {
   "cell_type": "code",
   "execution_count": null,
   "metadata": {},
   "outputs": [],
   "source": [
    "SELECT Athlete, count(Medal) AS nMedal\n",
    "FROM summer\n",
    "WHERE Medal = \"Gold\"\n",
    "GROUP BY Athlete \n",
    "ORDER BY nMedal DESC\n",
    "LIMIT 1"
   ]
  },
  {
   "cell_type": "markdown",
   "metadata": {},
   "source": [
    "*Résultat*: **Michael Phelps, 18**"
   ]
  },
  {
   "cell_type": "markdown",
   "metadata": {},
   "source": [
    "![Q12](screenshots/q12.png)"
   ]
  },
  {
   "cell_type": "markdown",
   "metadata": {},
   "source": [
    "### **13)** Est-ce-que la **France** a déjà gagné une **médaille d'or au criquet** ? (*Jordan*)"
   ]
  },
  {
   "cell_type": "code",
   "execution_count": null,
   "metadata": {},
   "outputs": [],
   "source": [
    "SELECT Country, Medal, Sport, count (Medal)\n",
    "FROM summer\n",
    "WHERE Country = \"FRA\" AND Medal = \"Gold\" AND Sport = \"Cricket\""
   ]
  },
  {
   "cell_type": "markdown",
   "metadata": {},
   "source": [
    "*Résultat*: **0**"
   ]
  },
  {
   "cell_type": "markdown",
   "metadata": {},
   "source": [
    "![Q13](screenshots/q13.png)"
   ]
  },
  {
   "cell_type": "markdown",
   "metadata": {},
   "source": [
    "### **14)** Combien de médaillés ont un **nom de famille** de plus de **6 lettres** en excluant les **années paires** ? (*Jonathan*)"
   ]
  },
  {
   "cell_type": "markdown",
   "metadata": {},
   "source": [
    "### Question involontairement **insolvable**. Merci moi.."
   ]
  },
  {
   "cell_type": "markdown",
   "metadata": {},
   "source": [
    "### **15)** Le nombre de médaillés d'**Or** par **pays** en **2012** ? (*Maelle*)"
   ]
  },
  {
   "cell_type": "code",
   "execution_count": null,
   "metadata": {},
   "outputs": [],
   "source": [
    "SELECT Country, count (Medal) AS nMedals\n",
    "FROM summer\n",
    "WHERE Medal = \"Gold\" AND Year = 2012\n",
    "GROUP BY Country\n",
    "ORDER BY nMedals DESC"
   ]
  },
  {
   "cell_type": "code",
   "execution_count": null,
   "metadata": {},
   "outputs": [],
   "source": [
    "Résultat:\n",
    "    \n",
    "USA\t147\n",
    "CHN\t56\n",
    "GBR\t48\n",
    "RUS\t47\n",
    "GER\t45\n",
    "FRA\t30\n",
    "NED\t21\n",
    "AUS\t19\n",
    "MEX\t18\n",
    "KOR\t18\n",
    "ITA\t16\n",
    "NOR\t15\n",
    "CRO\t15\n",
    "BRA\t14\n",
    "HUN\t12\n",
    "UKR\t9\n",
    "NZL\t9\n",
    "JAM\t8\n",
    "JPN\t7\n",
    "RSA\t6\n",
    "ESP\t6\n",
    "IRI\t5\n",
    "CUB\t5\n",
    "PRK\t4\n",
    "CZE\t4\n",
    "BAH\t4\n",
    "POL\t3\n",
    "KAZ\t3\n",
    "ETH\t3\n",
    "DEN\t3\n",
    "BLR\t3\n",
    "TUN\t2\n",
    "SWE\t2\n",
    "SUI\t2\n",
    "ROU\t2\n",
    "LTU\t2\n",
    "KEN\t2\n",
    "AZE\t2\n",
    "\t2\n",
    "VEN\t1\n",
    "UZB\t1\n",
    "UGA\t1\n",
    "TUR\t1\n",
    "TTO\t1\n",
    "TPE\t1\n",
    "SRB\t1\n",
    "SLO\t1\n",
    "LAT\t1\n",
    "IRL\t1\n",
    "GRN\t1\n",
    "GEO\t1\n",
    "DOM\t1\n",
    "COL\t1\n",
    "CAN\t1\n",
    "ARG\t1\n",
    "ALG\t1"
   ]
  },
  {
   "cell_type": "markdown",
   "metadata": {},
   "source": [
    "![Q15](screenshots/q15.png)"
   ]
  },
  {
   "cell_type": "markdown",
   "metadata": {},
   "source": [
    "### **16)** Combien de **femmes** ont remporté des **médailles** ? (*Alicia*)"
   ]
  },
  {
   "cell_type": "code",
   "execution_count": null,
   "metadata": {},
   "outputs": [],
   "source": [
    "SELECT count (DISTINCT Athlete) AS FemmesVainqueuzes\n",
    "FROM summer\n",
    "WHERE Gender = \"Women\" "
   ]
  },
  {
   "cell_type": "markdown",
   "metadata": {},
   "source": [
    "*Résultat*: **5838**"
   ]
  },
  {
   "cell_type": "markdown",
   "metadata": {},
   "source": [
    "![Q16](screenshots/q16.png)"
   ]
  },
  {
   "cell_type": "markdown",
   "metadata": {},
   "source": [
    "### **17)** Entre **1984 et 2012**, combien de médailles a gagné la **France** ? (*Abir*)"
   ]
  },
  {
   "cell_type": "code",
   "execution_count": null,
   "metadata": {},
   "outputs": [],
   "source": [
    "SELECT count(Medal) as nMedal\n",
    "FROM summer\n",
    "WHERE country = \"FRA\" AND Year BETWEEN '1984' AND '2012'"
   ]
  },
  {
   "cell_type": "markdown",
   "metadata": {},
   "source": [
    "*Résultat* : **482**"
   ]
  },
  {
   "cell_type": "markdown",
   "metadata": {},
   "source": [
    "![Q17](screenshots/q17.png)"
   ]
  },
  {
   "cell_type": "markdown",
   "metadata": {},
   "source": [
    "Fin"
   ]
  }
 ],
 "metadata": {
  "kernelspec": {
   "display_name": "Python 3",
   "language": "python",
   "name": "python3"
  },
  "language_info": {
   "codemirror_mode": {
    "name": "ipython",
    "version": 3
   },
   "file_extension": ".py",
   "mimetype": "text/x-python",
   "name": "python",
   "nbconvert_exporter": "python",
   "pygments_lexer": "ipython3",
   "version": "3.8.6"
  }
 },
 "nbformat": 4,
 "nbformat_minor": 4
}
