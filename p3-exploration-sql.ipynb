{
 "cells": [
  {
   "cell_type": "markdown",
   "metadata": {},
   "source": [
    "# P3. Exploration SQL"
   ]
  },
  {
   "cell_type": "markdown",
   "metadata": {},
   "source": [
    "Le répertoire `/db` contient une base de données SQLite3 `olympics.sqbpro` reprenant les résultats des épreuves des jeux d'été pour une période donnée (cf P1 & P2).\n",
    "\n",
    "On s'intéresse dans le cadre de cette partie P3 à l'exploration via SQL des résultats des JO d'été (table : `summer`)."
   ]
  },
  {
   "cell_type": "markdown",
   "metadata": {},
   "source": [
    "---"
   ]
  },
  {
   "cell_type": "markdown",
   "metadata": {},
   "source": [
    "### Question 1: Qu'est ce que SQL ?"
   ]
  },
  {
   "cell_type": "markdown",
   "metadata": {},
   "source": [
    " **SQL (Structured Query Langage)** est un langage de base de *données relationnelle*. Il permet:\n",
    "\n",
    "    - La création de base et des tables.\n",
    "    - L'ajout d'enregistrements sous forme de lignes.\n",
    "    - L'interrogation de la base.\n",
    "    - La mise à jour.\n",
    "    - Le changement de structure de la table: ajout, suppression de colonnes.\n",
    "    - La gestion de droits d'utilisateurs de la base.\n"
   ]
  },
  {
   "cell_type": "markdown",
   "metadata": {},
   "source": [
    "### Question 2: Qu'est ce que SQLite 3 ? Avantages et/ou Inconvénients ?"
   ]
  },
  {
   "cell_type": "markdown",
   "metadata": {},
   "source": [
    "**SQLite est un système de base de données** qui a la particularité de fonctionner sans serveur, on dit aussi \"standalone\"* ou *\"base de données embarquée\".\n",
    "\n",
    "Les principaux **inconvénients** de SQLite par rapport à MySQL sont :\n",
    "\n",
    "- écritures atomiques (avec SQLite, un seul processus peut écrire dans la base)\n",
    "- pas de réplication\n",
    "    \n",
    "**Les Avantages** : \n",
    "\n",
    "- ce qu'il faut bien garder à l'esprit, c'est que SQLite n'est pas vraiment un concurrent des serveurs de base de données relationnelles.\n",
    "\n",
    "- SQLite peut aussi s'avérer très utile sur un site web pour créer des fonctionnalités qui ne sont pas directement liées au site évitant ainsi de polluer la base de données principale (fonctionnant sur MySQL par exemple) avec des données temporaires.\n",
    "\n",
    "- L'autre avantage est la simplicité : il n'y a aucune manipulation à faire, le fichier sqlite est créé automatiquement à la volée, toute la base est stockée dans un fichier unique qu'il est facile d'échanger en FTP..."
   ]
  },
  {
   "cell_type": "markdown",
   "metadata": {},
   "source": [
    "### Question 3: Donner des exemples d'autres formats de fichier pouvant être utilisé pour fournir des données similaires "
   ]
  },
  {
   "cell_type": "markdown",
   "metadata": {},
   "source": [
    "**.CSV / .XLM / .SQLITEDB / .DB / .SQLITE3 / .SQL**"
   ]
  },
  {
   "cell_type": "markdown",
   "metadata": {},
   "source": [
    "### Question 4: Quel est le type (texte ou binaire) du fichier base de données SQLite3?"
   ]
  },
  {
   "cell_type": "markdown",
   "metadata": {},
   "source": [
    "Le fichier `olympics.sqbpro` est un fichier **binaire**"
   ]
  },
  {
   "cell_type": "markdown",
   "metadata": {},
   "source": [
    "### Question 5: Donner les caractéristiques de la table `summer` ? "
   ]
  },
  {
   "cell_type": "markdown",
   "metadata": {},
   "source": [
    "**Year / City / Sport / Discipline / Athlete / Country / Gender / Event / Medal**"
   ]
  },
  {
   "cell_type": "markdown",
   "metadata": {},
   "source": [
    "---\n",
    "### Question 6: Combien d'enregistrements possède la table `summer` ?"
   ]
  },
  {
   "cell_type": "code",
   "execution_count": null,
   "metadata": {},
   "outputs": [],
   "source": [
    "SELECT count (*)\n",
    "FROM summer;"
   ]
  },
  {
   "cell_type": "markdown",
   "metadata": {},
   "source": [
    "Résultat: **31165**"
   ]
  },
  {
   "cell_type": "markdown",
   "metadata": {},
   "source": [
    "### Question 7: Quelle période des JO couvre ce fichier de résultats ?"
   ]
  },
  {
   "cell_type": "code",
   "execution_count": null,
   "metadata": {},
   "outputs": [],
   "source": [
    "SELECT min(Year), max(Year)\n",
    "FROM summer;"
   ]
  },
  {
   "cell_type": "markdown",
   "metadata": {},
   "source": [
    "Résultat: **De 1896 à 2012**"
   ]
  },
  {
   "cell_type": "markdown",
   "metadata": {},
   "source": [
    "### Question 8: Indiquer les années et villes des olympiades ? "
   ]
  },
  {
   "cell_type": "code",
   "execution_count": null,
   "metadata": {},
   "outputs": [],
   "source": [
    "SELECT DISTINCT Year, City\n",
    "FROM summer"
   ]
  },
  {
   "cell_type": "code",
   "execution_count": null,
   "metadata": {},
   "outputs": [],
   "source": [
    "1896    Athens\n",
    "1900    Paris\n",
    "1904    St Louis\n",
    "1908    London\n",
    "1912    Stockholm\n",
    "1920    Antwerp\n",
    "1924    Paris\n",
    "1928    Amsterdam\n",
    "1932    Los Angeles\n",
    "1936    Berlin\n",
    "1948    London\n",
    "1952    Helsinki\n",
    "1956    Melbourne / Stockholm\n",
    "1960    Rome\n",
    "1964    Tokyo\n",
    "1968    Mexico\n",
    "1972    Munich\n",
    "1976    Montreal\n",
    "1980    Moscow\n",
    "1984    Los Angeles\n",
    "1988    Seoul\n",
    "1992    Barcelona\n",
    "1996    Atlanta\n",
    "2000    Sydney\n",
    "2004    Athens\n",
    "2008    Beijing\n",
    "2012    London"
   ]
  },
  {
   "cell_type": "markdown",
   "metadata": {},
   "source": [
    "### **Questions des apprenants:** "
   ]
  },
  {
   "cell_type": "markdown",
   "metadata": {},
   "source": [
    "### **1)** Combien la **France** a remporté de médailles d’**Or** aux JO de **1984** ? (*Christophe*)"
   ]
  },
  {
   "cell_type": "code",
   "execution_count": null,
   "metadata": {},
   "outputs": [],
   "source": [
    "-SELECT count (*)\n",
    "FROM summer\n",
    "WHERE Year = 1984 AND country = \"FRA\" AND Medal= \"Gold\"-- "
   ]
  },
  {
   "cell_type": "markdown",
   "metadata": {},
   "source": [
    "*Résultat* : **21**"
   ]
  },
  {
   "cell_type": "markdown",
   "metadata": {},
   "source": [
    "![Q1](screenshots/q1.png)"
   ]
  },
  {
   "cell_type": "markdown",
   "metadata": {},
   "source": [
    "### 2- Quel pays a le plus d'athlètes tout pays confondu (Matthias)###"
   ]
  },
  {
   "cell_type": "code",
   "execution_count": null,
   "metadata": {},
   "outputs": [],
   "source": [
    "SELECT country, count (DISTINCT Athlete) as nAthlete\n",
    "FROM summer\n",
    "GROUP BY Country\n",
    "ORDER BY nAthlete DESC\n",
    "LIMIT 1"
   ]
  },
  {
   "cell_type": "code",
   "execution_count": null,
   "metadata": {},
   "outputs": [],
   "source": [
    "Résultat : 3149"
   ]
  },
  {
   "cell_type": "code",
   "execution_count": null,
   "metadata": {},
   "outputs": [],
   "source": [
    "![Q2](./screenshots/q2.png)"
   ]
  },
  {
   "cell_type": "code",
   "execution_count": null,
   "metadata": {},
   "outputs": [],
   "source": [
    "# 3- En 2012,combien de médailles le Japon a-t-il gagné ? (Théo)"
   ]
  },
  {
   "cell_type": "code",
   "execution_count": null,
   "metadata": {},
   "outputs": [],
   "source": [
    "SELECT count(Medal) as nMedal\n",
    "FROM summer\n",
    "WHERE country = \"JPN\" AND Year = 2012"
   ]
  },
  {
   "cell_type": "code",
   "execution_count": null,
   "metadata": {},
   "outputs": [],
   "source": [
    "![Q3](./screenshots/q3.png)"
   ]
  },
  {
   "cell_type": "code",
   "execution_count": null,
   "metadata": {},
   "outputs": [],
   "source": [
    "# 4 - Dans quels différents sports les Grecs ont ils gagnés des médailles ?"
   ]
  },
  {
   "cell_type": "code",
   "execution_count": null,
   "metadata": {},
   "outputs": [],
   "source": [
    "SELECT Sport\n",
    "FROM summer\n",
    "WHERE Country = \"GRE\"\n",
    "GROUP BY Sport"
   ]
  },
  {
   "cell_type": "code",
   "execution_count": null,
   "metadata": {},
   "outputs": [],
   "source": [
    "![Q4](./screenshots/q4.png)"
   ]
  },
  {
   "cell_type": "code",
   "execution_count": null,
   "metadata": {},
   "outputs": [],
   "source": [
    "# 5 - Quel Pays a remporté le plus de médailles d'or (Philippe)"
   ]
  },
  {
   "cell_type": "code",
   "execution_count": null,
   "metadata": {},
   "outputs": [],
   "source": [
    "SELECT Country, count(Medal) \n",
    "FROM summer\n",
    "WHERE Medal = \"Gold\"\n",
    "GROUP BY Country\n",
    "ORDER BY count(MEDAL) DESC\n",
    "LIMIT 1"
   ]
  },
  {
   "cell_type": "code",
   "execution_count": null,
   "metadata": {},
   "outputs": [],
   "source": [
    "Résultat : USA avec 2235"
   ]
  },
  {
   "cell_type": "markdown",
   "metadata": {},
   "source": [
    "![Q5](screenshots/q5.png)"
   ]
  },
  {
   "cell_type": "code",
   "execution_count": null,
   "metadata": {},
   "outputs": [],
   "source": [
    "# 6 - Combien de villes différentes ont accueuillis les JO d'été entre 1896 et 2012 ? (Yoann)"
   ]
  },
  {
   "cell_type": "code",
   "execution_count": null,
   "metadata": {},
   "outputs": [],
   "source": [
    "SELECT count(DISTINCT City) \n",
    "FROM summer"
   ]
  },
  {
   "cell_type": "code",
   "execution_count": null,
   "metadata": {},
   "outputs": [],
   "source": [
    "résultat : 22"
   ]
  },
  {
   "cell_type": "markdown",
   "metadata": {},
   "source": [
    "![Q6](screenshots/q6.png)"
   ]
  },
  {
   "cell_type": "code",
   "execution_count": null,
   "metadata": {},
   "outputs": [],
   "source": [
    "# 7 - Combien de femmes ont obtenues une médaille d'or (Lamia)"
   ]
  },
  {
   "cell_type": "code",
   "execution_count": null,
   "metadata": {},
   "outputs": [],
   "source": [
    "SELECT count(Gender) \n",
    "FROM summer\n",
    "WHERE Gender = \"Women\" AND Medal = \"Gold\""
   ]
  },
  {
   "cell_type": "code",
   "execution_count": null,
   "metadata": {},
   "outputs": [],
   "source": [
    "résultat : 2788"
   ]
  },
  {
   "cell_type": "code",
   "execution_count": null,
   "metadata": {},
   "outputs": [],
   "source": [
    "![Q7](./screenshots/q7.png)"
   ]
  },
  {
   "cell_type": "code",
   "execution_count": null,
   "metadata": {},
   "outputs": [],
   "source": [
    "# 8 - Combien de sports différents sont représentés par année (Joris)"
   ]
  },
  {
   "cell_type": "code",
   "execution_count": null,
   "metadata": {},
   "outputs": [],
   "source": [
    "SELECT year, count(DISTINCT Sport) as nombreSports\n",
    "FROM summer\n",
    "GROUP BY Year"
   ]
  },
  {
   "cell_type": "code",
   "execution_count": null,
   "metadata": {},
   "outputs": [],
   "source": [
    "Résultat :"
   ]
  },
  {
   "cell_type": "code",
   "execution_count": null,
   "metadata": {},
   "outputs": [],
   "source": [
    "![Q8](./screenshots/q8.png)"
   ]
  },
  {
   "cell_type": "code",
   "execution_count": null,
   "metadata": {},
   "outputs": [],
   "source": [
    "# 9 - Combien de fois Londres a acceuilli les JO (Marvin)"
   ]
  },
  {
   "cell_type": "code",
   "execution_count": null,
   "metadata": {},
   "outputs": [],
   "source": [
    "SELECT count(DISTINCT year) as LondresAcceuil\n",
    "FROM summer\n",
    "WHERE City = \"London\"\n"
   ]
  },
  {
   "cell_type": "code",
   "execution_count": null,
   "metadata": {},
   "outputs": [],
   "source": [
    "Résultat : 3"
   ]
  },
  {
   "cell_type": "code",
   "execution_count": null,
   "metadata": {},
   "outputs": [],
   "source": [
    "![Q9](./screenshots/q9.png)"
   ]
  },
  {
   "cell_type": "code",
   "execution_count": null,
   "metadata": {},
   "outputs": [],
   "source": [
    "# 10 - Combien de joueuses comptait la séléction brésilienne de volley-ball médaillées d'or au JO 2012 ? (Cor P)"
   ]
  },
  {
   "cell_type": "code",
   "execution_count": null,
   "metadata": {},
   "outputs": [],
   "source": [
    "SELECT count(Athlete)\n",
    "FROM summer\n",
    "WHERE Gender = \"Women\" AND Country = \"BRA\" AND Medal = \"Gold\" AND Year = \"2012\" AND Sport = \"Volleyball\""
   ]
  },
  {
   "cell_type": "code",
   "execution_count": null,
   "metadata": {},
   "outputs": [],
   "source": []
  },
  {
   "cell_type": "code",
   "execution_count": null,
   "metadata": {},
   "outputs": [],
   "source": [
    "# 11 - Combien de femmes francaises ont gagné en 2012, quels sont leurs médailles ? (izak)"
   ]
  },
  {
   "cell_type": "code",
   "execution_count": null,
   "metadata": {},
   "outputs": [],
   "source": [
    "#Premiere partie : Combien de femmes ont gagné en 2012\n",
    "SELECT count (DISTINCT Athlete) \n",
    "FROM summer\n",
    "WHERE Gender = \"Women\" AND Country = \"FRA\" AND Year = \"2012\""
   ]
  },
  {
   "cell_type": "code",
   "execution_count": null,
   "metadata": {},
   "outputs": [],
   "source": [
    "Résultat : 29"
   ]
  },
  {
   "cell_type": "code",
   "execution_count": null,
   "metadata": {},
   "outputs": [],
   "source": [
    "#Deuxieme partie : Quelles sont leur médaille ?\n",
    "SELECT Medal, Athlete\n",
    "FROM summer\n",
    "WHERE Gender = \"Women\" AND Country = \"FRA\" AND Year = \"2012\""
   ]
  },
  {
   "cell_type": "code",
   "execution_count": null,
   "metadata": {},
   "outputs": [],
   "source": []
  },
  {
   "cell_type": "code",
   "execution_count": null,
   "metadata": {},
   "outputs": [],
   "source": [
    "# 12 - Quel est l'athlète qui a remporté le plus de médaille d'or ? (Mayel)"
   ]
  },
  {
   "cell_type": "code",
   "execution_count": null,
   "metadata": {},
   "outputs": [],
   "source": [
    "SELECT Athlete, count(Medal) AS nMedal\n",
    "FROM summer\n",
    "WHERE Medal = \"Gold\"\n",
    "GROUP BY Athlete \n",
    "ORDER BY nMedal DESC\n",
    "LIMIT 1"
   ]
  },
  {
   "cell_type": "code",
   "execution_count": null,
   "metadata": {},
   "outputs": [],
   "source": [
    "Michael Phelps 18"
   ]
  },
  {
   "cell_type": "code",
   "execution_count": null,
   "metadata": {},
   "outputs": [],
   "source": [
    "# 13 - Est ce que la France a déjà gagné une médaille d'or au criquet ? (Jordan)"
   ]
  },
  {
   "cell_type": "code",
   "execution_count": null,
   "metadata": {},
   "outputs": [],
   "source": [
    "SELECT Country, Medal, Sport, count (Medal)\n",
    "FROM summer\n",
    "WHERE Country = \"FRA\" AND Medal = \"Gold\" AND Sport = \"Cricket\""
   ]
  },
  {
   "cell_type": "code",
   "execution_count": null,
   "metadata": {},
   "outputs": [],
   "source": [
    "Résulktat 0"
   ]
  },
  {
   "cell_type": "code",
   "execution_count": null,
   "metadata": {},
   "outputs": [],
   "source": [
    "# 14 - Combien de médaillés ont un nom de famille de plus de 6 lettres en excluant les années paires ? (Jonathan)"
   ]
  },
  {
   "cell_type": "markdown",
   "metadata": {},
   "source": [
    "Question involontairement insolvable. Merci moi.."
   ]
  },
  {
   "cell_type": "code",
   "execution_count": null,
   "metadata": {},
   "outputs": [],
   "source": [
    "# 15 - Le nombre de médaillés d'or par pays en 2012 ? (Maelle)"
   ]
  },
  {
   "cell_type": "code",
   "execution_count": null,
   "metadata": {},
   "outputs": [],
   "source": [
    "SELECT Country, count (Medal) AS nMedals\n",
    "FROM summer\n",
    "WHERE Medal = \"Gold\" AND Year = 2012\n",
    "GROUP BY Country\n",
    "ORDER BY nMedals DESC"
   ]
  },
  {
   "cell_type": "code",
   "execution_count": null,
   "metadata": {},
   "outputs": [],
   "source": [
    "# 16 - Combien de femmes ont remporté des médailles ? (Alicia)"
   ]
  },
  {
   "cell_type": "code",
   "execution_count": null,
   "metadata": {},
   "outputs": [],
   "source": [
    "SELECT count (DISTINCT Athlete) AS FemmesVainqueuzes\n",
    "FROM summer\n",
    "WHERE Gender = \"Women\" "
   ]
  },
  {
   "cell_type": "code",
   "execution_count": null,
   "metadata": {},
   "outputs": [],
   "source": [
    "5838"
   ]
  },
  {
   "cell_type": "code",
   "execution_count": null,
   "metadata": {},
   "outputs": [],
   "source": [
    "# 17- Entre 1984 et 2012, combien de médailles a gagné la France ?"
   ]
  },
  {
   "cell_type": "code",
   "execution_count": null,
   "metadata": {},
   "outputs": [],
   "source": [
    "SELECT count(Medal) as nMedal\n",
    "FROM summer\n",
    "WHERE country = \"FRA\" AND Year BETWEEN '1984' AND '2012'"
   ]
  },
  {
   "cell_type": "code",
   "execution_count": null,
   "metadata": {},
   "outputs": [],
   "source": [
    "Résultat : 482"
   ]
  },
  {
   "cell_type": "code",
   "execution_count": null,
   "metadata": {},
   "outputs": [],
   "source": [
    "![Q17](./screenshots/q17.png)"
   ]
  },
  {
   "cell_type": "markdown",
   "metadata": {},
   "source": [
    "Fin"
   ]
  }
 ],
 "metadata": {
  "kernelspec": {
   "display_name": "Python 3",
   "language": "python",
   "name": "python3"
  },
  "language_info": {
   "codemirror_mode": {
    "name": "ipython",
    "version": 3
   },
   "file_extension": ".py",
   "mimetype": "text/x-python",
   "name": "python",
   "nbconvert_exporter": "python",
   "pygments_lexer": "ipython3",
   "version": "3.8.6"
  }
 },
 "nbformat": 4,
 "nbformat_minor": 4
}
