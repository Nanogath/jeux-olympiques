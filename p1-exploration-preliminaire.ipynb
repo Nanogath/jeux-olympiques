{
 "cells": [
  {
   "cell_type": "markdown",
   "metadata": {},
   "source": [
    "# P1. Exploration Préliminaire"
   ]
  },
  {
   "cell_type": "markdown",
   "metadata": {},
   "source": [
    "Le répertoire `/data` contient les résultats brutes des épreuves des jeux d'été et d'hiver pour une période donnée.\n",
    "\n",
    "On s'intéresse dans le cadre de cette partie P1 à l'exploration des résultats des JO d'été (fichier : `summer-olympics.csv`) en s'appuyant seulement sur des outils assez communs (explorateur de fichiers, éditeur de texte, traitement de texte, tableur...)  "
   ]
  },
  {
   "cell_type": "markdown",
   "metadata": {},
   "source": [
    "---"
   ]
  },
  {
   "cell_type": "markdown",
   "metadata": {},
   "source": [
    "### Question 1: Quel est le type (texte ou binaire) et le format de ce fichier ?"
   ]
  },
  {
   "cell_type": "markdown",
   "metadata": {},
   "source": [
    "Le fichier `summer-olympics.csv` est un fichier texte au format csv  "
   ]
  },
  {
   "cell_type": "markdown",
   "metadata": {},
   "source": [
    "### Question 2: Quel est le format du fichier en question ? "
   ]
  },
  {
   "cell_type": "markdown",
   "metadata": {},
   "source": [
    "csv pour *Comma separated values*"
   ]
  },
  {
   "cell_type": "markdown",
   "metadata": {},
   "source": [
    "### Question 3: Décrire en quelques lignes ce format de fichier"
   ]
  },
  {
   "cell_type": "markdown",
   "metadata": {},
   "source": [
    "Il représente des données tabulaires sous forme de valeurs séparées par des virgules. \n",
    "\n",
    "Chaque ligne du texte correspond à une ligne du tableau et les virgules correspondent aux séparations \n",
    "entre les colonnes.\n",
    "\n",
    "Les portions de texte séparées par une virgule correspondent ainsi \n",
    "aux contenus des cellules du tableau.\n",
    "\n",
    "Ce texte est extrait de l'excellent article de Wikipédia : [Accessible ici même](https://fr.wikipedia.org/wiki/Comma-separated_values)"
   ]
  },
  {
   "cell_type": "markdown",
   "metadata": {},
   "source": [
    "### Question 4: Donner des exemples d'autres formats de fichier pouvant être utilisé pour fournir des données similaires "
   ]
  },
  {
   "cell_type": "markdown",
   "metadata": {},
   "source": [
    "On peut citer le format \"XLS\" d'excel, ou encore le format \"ODF\" de LibreOffice ! "
   ]
  },
  {
   "cell_type": "markdown",
   "metadata": {},
   "source": [
    "### Question 5: Décrire le contenu du fichier considéré  "
   ]
  },
  {
   "cell_type": "markdown",
   "metadata": {},
   "source": [
    "il s'agit du listing de tous les médaillés des JO entre 1896 et 2012, précisant le genre et \n",
    "la nationalité du médaillé ainsi que l'année et le lieu de l'évènement; Mais aussi le sport et la discipline \n",
    "dans lesquels le médaillé a triomphé de ses adversaires."
   ]
  },
  {
   "cell_type": "markdown",
   "metadata": {},
   "source": [
    "---\n",
    "### Remarque: \n",
    "**Pour les questions suivantes, indiquer d'abord la requête SQL permettant de répondre à la question posée **"
   ]
  },
  {
   "cell_type": "markdown",
   "metadata": {},
   "source": [
    "### Question 6: Combien d'enregistrements possède la table `summer` ?"
   ]
  },
  {
   "cell_type": "markdown",
   "metadata": {},
   "source": [
    "```sql\n",
    "-- Question 6\n",
    "\n",
    "````\n"
   ]
  },
  {
   "cell_type": "markdown",
   "metadata": {},
   "source": [
    "Réponse 6: ..."
   ]
  },
  {
   "cell_type": "markdown",
   "metadata": {},
   "source": [
    "### Question 7: Quelle période des JO couvre ce fichier de résultats ?"
   ]
  },
  {
   "cell_type": "code",
   "execution_count": null,
   "metadata": {},
   "outputs": [],
   "source": [
    "SELECT min(Year), max(Year)\n",
    "FROM summer"
   ]
  },
  {
   "cell_type": "markdown",
   "metadata": {},
   "source": [
    "![title](C:\\Users\\utilisateur\\simplon\\dev-data\\Briefs\\2-JeuxOlympiques\\screenshots\\Screenshot_1.png)\n"
   ]
  },
  {
   "cell_type": "markdown",
   "metadata": {},
   "source": [
    "### Question 8: Indiquer les années et villes des olympiades présentes dans ce jeu de données ? \n"
   ]
  },
  {
   "cell_type": "code",
   "execution_count": null,
   "metadata": {},
   "outputs": [],
   "source": [
    "1896    Athens\n",
    "1900    Paris\n",
    "1904    St Louis\n",
    "1908    London\n",
    "1912    Stockholm\n",
    "1920    Antwerp\n",
    "1924    Paris\n",
    "1928    Amsterdam\n",
    "1932    Los Angeles\n",
    "1936    Berlin\n",
    "1948    London\n",
    "1952    Helsinki\n",
    "1956    Melbourne / Stockholm\n",
    "1960    Rome\n",
    "1964    Tokyo\n",
    "1968    Mexico\n",
    "1972    Munich\n",
    "1976    Montreal\n",
    "1980    Moscow\n",
    "1984    Los Angeles\n",
    "1988    Seoul\n",
    "1992    Barcelona\n",
    "1996    Atlanta\n",
    "2000    Sydney\n",
    "2004    Athens\n",
    "2008    Beijing\n",
    "2012    London"
   ]
  },
  {
   "cell_type": "code",
   "execution_count": null,
   "metadata": {},
   "outputs": [],
   "source": []
  },
  {
   "cell_type": "code",
   "execution_count": null,
   "metadata": {},
   "outputs": [],
   "source": []
  },
  {
   "cell_type": "code",
   "execution_count": null,
   "metadata": {},
   "outputs": [],
   "source": []
  },
  {
   "cell_type": "markdown",
   "metadata": {},
   "source": [
    "### Question i: "
   ]
  },
  {
   "cell_type": "markdown",
   "metadata": {},
   "source": []
  },
  {
   "cell_type": "code",
   "execution_count": null,
   "metadata": {},
   "outputs": [],
   "source": []
  },
  {
   "cell_type": "markdown",
   "metadata": {},
   "source": [
    "--- "
   ]
  },
  {
   "cell_type": "markdown",
   "metadata": {},
   "source": [
    "Fin"
   ]
  }
 ],
 "metadata": {
  "kernelspec": {
   "display_name": "Python 3",
   "language": "python",
   "name": "python3"
  },
  "language_info": {
   "codemirror_mode": {
    "name": "ipython",
    "version": 3
   },
   "file_extension": ".py",
   "mimetype": "text/x-python",
   "name": "python",
   "nbconvert_exporter": "python",
   "pygments_lexer": "ipython3",
   "version": "3.8.6"
  }
 },
 "nbformat": 4,
 "nbformat_minor": 4
}
